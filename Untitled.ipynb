{
 "cells": [
  {
   "cell_type": "code",
   "execution_count": 1,
   "id": "236944cc",
   "metadata": {},
   "outputs": [],
   "source": [
    "import pandas as pd\n",
    "import numpy as np\n",
    "import matplotlib.pyplot as plt"
   ]
  },
  {
   "cell_type": "code",
   "execution_count": 2,
   "id": "0c9f7c02",
   "metadata": {},
   "outputs": [
    {
     "data": {
      "text/html": [
       "<div>\n",
       "<style scoped>\n",
       "    .dataframe tbody tr th:only-of-type {\n",
       "        vertical-align: middle;\n",
       "    }\n",
       "\n",
       "    .dataframe tbody tr th {\n",
       "        vertical-align: top;\n",
       "    }\n",
       "\n",
       "    .dataframe thead th {\n",
       "        text-align: right;\n",
       "    }\n",
       "</style>\n",
       "<table border=\"1\" class=\"dataframe\">\n",
       "  <thead>\n",
       "    <tr style=\"text-align: right;\">\n",
       "      <th></th>\n",
       "      <th>Unnamed: 0</th>\n",
       "      <th>Ketchup.hid</th>\n",
       "      <th>Ketchup.id</th>\n",
       "      <th>Ketchup.choice</th>\n",
       "      <th>price.heinz</th>\n",
       "      <th>price.hunts</th>\n",
       "      <th>price.delmonte</th>\n",
       "      <th>price.stb</th>\n",
       "    </tr>\n",
       "  </thead>\n",
       "  <tbody>\n",
       "    <tr>\n",
       "      <th>0</th>\n",
       "      <td>1</td>\n",
       "      <td>1</td>\n",
       "      <td>1</td>\n",
       "      <td>heinz</td>\n",
       "      <td>1.19</td>\n",
       "      <td>1.39</td>\n",
       "      <td>1.49</td>\n",
       "      <td>0.89</td>\n",
       "    </tr>\n",
       "    <tr>\n",
       "      <th>1</th>\n",
       "      <td>2</td>\n",
       "      <td>1</td>\n",
       "      <td>2</td>\n",
       "      <td>heinz</td>\n",
       "      <td>0.99</td>\n",
       "      <td>1.36</td>\n",
       "      <td>1.39</td>\n",
       "      <td>0.95</td>\n",
       "    </tr>\n",
       "    <tr>\n",
       "      <th>2</th>\n",
       "      <td>3</td>\n",
       "      <td>1</td>\n",
       "      <td>3</td>\n",
       "      <td>hunts</td>\n",
       "      <td>1.46</td>\n",
       "      <td>1.43</td>\n",
       "      <td>1.49</td>\n",
       "      <td>0.99</td>\n",
       "    </tr>\n",
       "    <tr>\n",
       "      <th>3</th>\n",
       "      <td>4</td>\n",
       "      <td>1</td>\n",
       "      <td>4</td>\n",
       "      <td>hunts</td>\n",
       "      <td>1.46</td>\n",
       "      <td>1.43</td>\n",
       "      <td>1.45</td>\n",
       "      <td>0.99</td>\n",
       "    </tr>\n",
       "    <tr>\n",
       "      <th>4</th>\n",
       "      <td>5</td>\n",
       "      <td>1</td>\n",
       "      <td>5</td>\n",
       "      <td>stb</td>\n",
       "      <td>1.46</td>\n",
       "      <td>1.36</td>\n",
       "      <td>1.39</td>\n",
       "      <td>0.95</td>\n",
       "    </tr>\n",
       "  </tbody>\n",
       "</table>\n",
       "</div>"
      ],
      "text/plain": [
       "   Unnamed: 0  Ketchup.hid  Ketchup.id Ketchup.choice  price.heinz  \\\n",
       "0           1            1           1          heinz         1.19   \n",
       "1           2            1           2          heinz         0.99   \n",
       "2           3            1           3          hunts         1.46   \n",
       "3           4            1           4          hunts         1.46   \n",
       "4           5            1           5            stb         1.46   \n",
       "\n",
       "   price.hunts  price.delmonte  price.stb  \n",
       "0         1.39            1.49       0.89  \n",
       "1         1.36            1.39       0.95  \n",
       "2         1.43            1.49       0.99  \n",
       "3         1.43            1.45       0.99  \n",
       "4         1.36            1.39       0.95  "
      ]
     },
     "execution_count": 2,
     "metadata": {},
     "output_type": "execute_result"
    }
   ],
   "source": [
    "df=pd.read_csv('Ketchup.csv')\n",
    "df.head()"
   ]
  },
  {
   "cell_type": "code",
   "execution_count": 3,
   "id": "4cd9e71b",
   "metadata": {},
   "outputs": [
    {
     "data": {
      "text/html": [
       "<div>\n",
       "<style scoped>\n",
       "    .dataframe tbody tr th:only-of-type {\n",
       "        vertical-align: middle;\n",
       "    }\n",
       "\n",
       "    .dataframe tbody tr th {\n",
       "        vertical-align: top;\n",
       "    }\n",
       "\n",
       "    .dataframe thead th {\n",
       "        text-align: right;\n",
       "    }\n",
       "</style>\n",
       "<table border=\"1\" class=\"dataframe\">\n",
       "  <thead>\n",
       "    <tr style=\"text-align: right;\">\n",
       "      <th></th>\n",
       "      <th>Unnamed: 0</th>\n",
       "      <th>Ketchup.hid</th>\n",
       "      <th>Ketchup.id</th>\n",
       "      <th>price.heinz</th>\n",
       "      <th>price.hunts</th>\n",
       "      <th>price.delmonte</th>\n",
       "      <th>price.stb</th>\n",
       "    </tr>\n",
       "  </thead>\n",
       "  <tbody>\n",
       "    <tr>\n",
       "      <th>count</th>\n",
       "      <td>4956.000000</td>\n",
       "      <td>4956.000000</td>\n",
       "      <td>4956.000000</td>\n",
       "      <td>4956.000000</td>\n",
       "      <td>4956.000000</td>\n",
       "      <td>4956.000000</td>\n",
       "      <td>4956.000000</td>\n",
       "    </tr>\n",
       "    <tr>\n",
       "      <th>mean</th>\n",
       "      <td>2478.500000</td>\n",
       "      <td>936.721550</td>\n",
       "      <td>3.095642</td>\n",
       "      <td>1.248900</td>\n",
       "      <td>1.343860</td>\n",
       "      <td>1.426945</td>\n",
       "      <td>0.921178</td>\n",
       "    </tr>\n",
       "    <tr>\n",
       "      <th>std</th>\n",
       "      <td>1430.818297</td>\n",
       "      <td>549.104119</td>\n",
       "      <td>3.065865</td>\n",
       "      <td>0.204913</td>\n",
       "      <td>0.176185</td>\n",
       "      <td>0.114157</td>\n",
       "      <td>0.068198</td>\n",
       "    </tr>\n",
       "    <tr>\n",
       "      <th>min</th>\n",
       "      <td>1.000000</td>\n",
       "      <td>1.000000</td>\n",
       "      <td>1.000000</td>\n",
       "      <td>0.790000</td>\n",
       "      <td>0.790000</td>\n",
       "      <td>0.890000</td>\n",
       "      <td>0.750000</td>\n",
       "    </tr>\n",
       "    <tr>\n",
       "      <th>25%</th>\n",
       "      <td>1239.750000</td>\n",
       "      <td>463.750000</td>\n",
       "      <td>1.000000</td>\n",
       "      <td>0.990000</td>\n",
       "      <td>1.360000</td>\n",
       "      <td>1.390000</td>\n",
       "      <td>0.890000</td>\n",
       "    </tr>\n",
       "    <tr>\n",
       "      <th>50%</th>\n",
       "      <td>2478.500000</td>\n",
       "      <td>923.000000</td>\n",
       "      <td>2.000000</td>\n",
       "      <td>1.190000</td>\n",
       "      <td>1.390000</td>\n",
       "      <td>1.460000</td>\n",
       "      <td>0.950000</td>\n",
       "    </tr>\n",
       "    <tr>\n",
       "      <th>75%</th>\n",
       "      <td>3717.250000</td>\n",
       "      <td>1406.000000</td>\n",
       "      <td>4.000000</td>\n",
       "      <td>1.460000</td>\n",
       "      <td>1.430000</td>\n",
       "      <td>1.490000</td>\n",
       "      <td>0.950000</td>\n",
       "    </tr>\n",
       "    <tr>\n",
       "      <th>max</th>\n",
       "      <td>4956.000000</td>\n",
       "      <td>1956.000000</td>\n",
       "      <td>24.000000</td>\n",
       "      <td>1.470000</td>\n",
       "      <td>1.530000</td>\n",
       "      <td>1.490000</td>\n",
       "      <td>0.990000</td>\n",
       "    </tr>\n",
       "  </tbody>\n",
       "</table>\n",
       "</div>"
      ],
      "text/plain": [
       "        Unnamed: 0  Ketchup.hid   Ketchup.id  price.heinz  price.hunts  \\\n",
       "count  4956.000000  4956.000000  4956.000000  4956.000000  4956.000000   \n",
       "mean   2478.500000   936.721550     3.095642     1.248900     1.343860   \n",
       "std    1430.818297   549.104119     3.065865     0.204913     0.176185   \n",
       "min       1.000000     1.000000     1.000000     0.790000     0.790000   \n",
       "25%    1239.750000   463.750000     1.000000     0.990000     1.360000   \n",
       "50%    2478.500000   923.000000     2.000000     1.190000     1.390000   \n",
       "75%    3717.250000  1406.000000     4.000000     1.460000     1.430000   \n",
       "max    4956.000000  1956.000000    24.000000     1.470000     1.530000   \n",
       "\n",
       "       price.delmonte    price.stb  \n",
       "count     4956.000000  4956.000000  \n",
       "mean         1.426945     0.921178  \n",
       "std          0.114157     0.068198  \n",
       "min          0.890000     0.750000  \n",
       "25%          1.390000     0.890000  \n",
       "50%          1.460000     0.950000  \n",
       "75%          1.490000     0.950000  \n",
       "max          1.490000     0.990000  "
      ]
     },
     "execution_count": 3,
     "metadata": {},
     "output_type": "execute_result"
    }
   ],
   "source": [
    "df.describe()"
   ]
  },
  {
   "cell_type": "code",
   "execution_count": 4,
   "id": "20a4cc9b",
   "metadata": {},
   "outputs": [
    {
     "data": {
      "text/plain": [
       "Unnamed: 0          int64\n",
       "Ketchup.hid         int64\n",
       "Ketchup.id          int64\n",
       "Ketchup.choice     object\n",
       "price.heinz       float64\n",
       "price.hunts       float64\n",
       "price.delmonte    float64\n",
       "price.stb         float64\n",
       "dtype: object"
      ]
     },
     "execution_count": 4,
     "metadata": {},
     "output_type": "execute_result"
    }
   ],
   "source": [
    "df.dtypes"
   ]
  },
  {
   "cell_type": "code",
   "execution_count": 5,
   "id": "4d4b7332",
   "metadata": {},
   "outputs": [
    {
     "data": {
      "text/plain": [
       "(4956, 8)"
      ]
     },
     "execution_count": 5,
     "metadata": {},
     "output_type": "execute_result"
    }
   ],
   "source": [
    "df.shape"
   ]
  },
  {
   "cell_type": "code",
   "execution_count": 6,
   "id": "7c9507c6",
   "metadata": {},
   "outputs": [
    {
     "data": {
      "text/plain": [
       "39648"
      ]
     },
     "execution_count": 6,
     "metadata": {},
     "output_type": "execute_result"
    }
   ],
   "source": [
    "df.size"
   ]
  },
  {
   "cell_type": "code",
   "execution_count": 7,
   "id": "285cc5a7",
   "metadata": {},
   "outputs": [
    {
     "data": {
      "text/html": [
       "<div>\n",
       "<style scoped>\n",
       "    .dataframe tbody tr th:only-of-type {\n",
       "        vertical-align: middle;\n",
       "    }\n",
       "\n",
       "    .dataframe tbody tr th {\n",
       "        vertical-align: top;\n",
       "    }\n",
       "\n",
       "    .dataframe thead th {\n",
       "        text-align: right;\n",
       "    }\n",
       "</style>\n",
       "<table border=\"1\" class=\"dataframe\">\n",
       "  <thead>\n",
       "    <tr style=\"text-align: right;\">\n",
       "      <th></th>\n",
       "      <th>Unnamed: 0</th>\n",
       "      <th>Ketchup.hid</th>\n",
       "      <th>Ketchup.id</th>\n",
       "      <th>Ketchup.choice</th>\n",
       "      <th>price.heinz</th>\n",
       "      <th>price.hunts</th>\n",
       "      <th>price.delmonte</th>\n",
       "      <th>price.stb</th>\n",
       "    </tr>\n",
       "  </thead>\n",
       "  <tbody>\n",
       "    <tr>\n",
       "      <th>4951</th>\n",
       "      <td>4952</td>\n",
       "      <td>1952</td>\n",
       "      <td>1</td>\n",
       "      <td>stb</td>\n",
       "      <td>1.39</td>\n",
       "      <td>1.31</td>\n",
       "      <td>1.45</td>\n",
       "      <td>0.99</td>\n",
       "    </tr>\n",
       "    <tr>\n",
       "      <th>4952</th>\n",
       "      <td>4953</td>\n",
       "      <td>1953</td>\n",
       "      <td>1</td>\n",
       "      <td>heinz</td>\n",
       "      <td>1.39</td>\n",
       "      <td>1.39</td>\n",
       "      <td>0.99</td>\n",
       "      <td>0.79</td>\n",
       "    </tr>\n",
       "    <tr>\n",
       "      <th>4953</th>\n",
       "      <td>4954</td>\n",
       "      <td>1954</td>\n",
       "      <td>1</td>\n",
       "      <td>stb</td>\n",
       "      <td>1.39</td>\n",
       "      <td>1.43</td>\n",
       "      <td>1.45</td>\n",
       "      <td>0.79</td>\n",
       "    </tr>\n",
       "    <tr>\n",
       "      <th>4954</th>\n",
       "      <td>4955</td>\n",
       "      <td>1955</td>\n",
       "      <td>1</td>\n",
       "      <td>stb</td>\n",
       "      <td>1.39</td>\n",
       "      <td>0.79</td>\n",
       "      <td>1.45</td>\n",
       "      <td>0.79</td>\n",
       "    </tr>\n",
       "    <tr>\n",
       "      <th>4955</th>\n",
       "      <td>4956</td>\n",
       "      <td>1956</td>\n",
       "      <td>1</td>\n",
       "      <td>stb</td>\n",
       "      <td>1.39</td>\n",
       "      <td>1.39</td>\n",
       "      <td>1.46</td>\n",
       "      <td>0.79</td>\n",
       "    </tr>\n",
       "  </tbody>\n",
       "</table>\n",
       "</div>"
      ],
      "text/plain": [
       "      Unnamed: 0  Ketchup.hid  Ketchup.id Ketchup.choice  price.heinz  \\\n",
       "4951        4952         1952           1            stb         1.39   \n",
       "4952        4953         1953           1          heinz         1.39   \n",
       "4953        4954         1954           1            stb         1.39   \n",
       "4954        4955         1955           1            stb         1.39   \n",
       "4955        4956         1956           1            stb         1.39   \n",
       "\n",
       "      price.hunts  price.delmonte  price.stb  \n",
       "4951         1.31            1.45       0.99  \n",
       "4952         1.39            0.99       0.79  \n",
       "4953         1.43            1.45       0.79  \n",
       "4954         0.79            1.45       0.79  \n",
       "4955         1.39            1.46       0.79  "
      ]
     },
     "execution_count": 7,
     "metadata": {},
     "output_type": "execute_result"
    }
   ],
   "source": [
    "df.tail()"
   ]
  },
  {
   "cell_type": "code",
   "execution_count": 8,
   "id": "75512f44",
   "metadata": {},
   "outputs": [
    {
     "data": {
      "text/plain": [
       "Unnamed: 0        0\n",
       "Ketchup.hid       0\n",
       "Ketchup.id        0\n",
       "Ketchup.choice    0\n",
       "price.heinz       0\n",
       "price.hunts       0\n",
       "price.delmonte    0\n",
       "price.stb         0\n",
       "dtype: int64"
      ]
     },
     "execution_count": 8,
     "metadata": {},
     "output_type": "execute_result"
    }
   ],
   "source": [
    "df.isnull().sum()"
   ]
  },
  {
   "cell_type": "code",
   "execution_count": 6,
   "id": "8ea0f25d",
   "metadata": {},
   "outputs": [
    {
     "data": {
      "application/javascript": [
       "\n",
       "        if (window._pyforest_update_imports_cell) { window._pyforest_update_imports_cell('import pandas as pd'); }\n",
       "    "
      ],
      "text/plain": [
       "<IPython.core.display.Javascript object>"
      ]
     },
     "metadata": {},
     "output_type": "display_data"
    },
    {
     "data": {
      "application/javascript": [
       "\n",
       "        if (window._pyforest_update_imports_cell) { window._pyforest_update_imports_cell('import pandas as pd'); }\n",
       "    "
      ],
      "text/plain": [
       "<IPython.core.display.Javascript object>"
      ]
     },
     "metadata": {},
     "output_type": "display_data"
    },
    {
     "data": {
      "text/html": [
       "<div>\n",
       "<style scoped>\n",
       "    .dataframe tbody tr th:only-of-type {\n",
       "        vertical-align: middle;\n",
       "    }\n",
       "\n",
       "    .dataframe tbody tr th {\n",
       "        vertical-align: top;\n",
       "    }\n",
       "\n",
       "    .dataframe thead th {\n",
       "        text-align: right;\n",
       "    }\n",
       "</style>\n",
       "<table border=\"1\" class=\"dataframe\">\n",
       "  <thead>\n",
       "    <tr style=\"text-align: right;\">\n",
       "      <th></th>\n",
       "      <th>Unnamed: 0</th>\n",
       "      <th>Ketchup.hid</th>\n",
       "      <th>Ketchup.id</th>\n",
       "      <th>Ketchup.choice</th>\n",
       "      <th>price.heinz</th>\n",
       "      <th>price.hunts</th>\n",
       "      <th>price.delmonte</th>\n",
       "      <th>price.stb</th>\n",
       "    </tr>\n",
       "  </thead>\n",
       "  <tbody>\n",
       "    <tr>\n",
       "      <th>0</th>\n",
       "      <td>1</td>\n",
       "      <td>1</td>\n",
       "      <td>1</td>\n",
       "      <td>heinz</td>\n",
       "      <td>1.19</td>\n",
       "      <td>1.39</td>\n",
       "      <td>1.49</td>\n",
       "      <td>0.89</td>\n",
       "    </tr>\n",
       "    <tr>\n",
       "      <th>1</th>\n",
       "      <td>2</td>\n",
       "      <td>1</td>\n",
       "      <td>2</td>\n",
       "      <td>heinz</td>\n",
       "      <td>0.99</td>\n",
       "      <td>1.36</td>\n",
       "      <td>1.39</td>\n",
       "      <td>0.95</td>\n",
       "    </tr>\n",
       "    <tr>\n",
       "      <th>2</th>\n",
       "      <td>3</td>\n",
       "      <td>1</td>\n",
       "      <td>3</td>\n",
       "      <td>hunts</td>\n",
       "      <td>1.46</td>\n",
       "      <td>1.43</td>\n",
       "      <td>1.49</td>\n",
       "      <td>0.99</td>\n",
       "    </tr>\n",
       "    <tr>\n",
       "      <th>3</th>\n",
       "      <td>4</td>\n",
       "      <td>1</td>\n",
       "      <td>4</td>\n",
       "      <td>hunts</td>\n",
       "      <td>1.46</td>\n",
       "      <td>1.43</td>\n",
       "      <td>1.45</td>\n",
       "      <td>0.99</td>\n",
       "    </tr>\n",
       "    <tr>\n",
       "      <th>4</th>\n",
       "      <td>5</td>\n",
       "      <td>1</td>\n",
       "      <td>5</td>\n",
       "      <td>stb</td>\n",
       "      <td>1.46</td>\n",
       "      <td>1.36</td>\n",
       "      <td>1.39</td>\n",
       "      <td>0.95</td>\n",
       "    </tr>\n",
       "  </tbody>\n",
       "</table>\n",
       "</div>"
      ],
      "text/plain": [
       "   Unnamed: 0  Ketchup.hid  Ketchup.id Ketchup.choice  price.heinz  \\\n",
       "0           1            1           1          heinz         1.19   \n",
       "1           2            1           2          heinz         0.99   \n",
       "2           3            1           3          hunts         1.46   \n",
       "3           4            1           4          hunts         1.46   \n",
       "4           5            1           5            stb         1.46   \n",
       "\n",
       "   price.hunts  price.delmonte  price.stb  \n",
       "0         1.39            1.49       0.89  \n",
       "1         1.36            1.39       0.95  \n",
       "2         1.43            1.49       0.99  \n",
       "3         1.43            1.45       0.99  \n",
       "4         1.36            1.39       0.95  "
      ]
     },
     "execution_count": 6,
     "metadata": {},
     "output_type": "execute_result"
    }
   ],
   "source": [
    "train_data = pd.read_csv(\"Ketchup.csv\")\n",
    "df_train = pd.read_csv(\"Ketchup.csv\")\n",
    "train_data.head()"
   ]
  },
  {
   "cell_type": "code",
   "execution_count": 5,
   "id": "feb2cc6d",
   "metadata": {},
   "outputs": [
    {
     "data": {
      "application/javascript": [
       "\n",
       "        if (window._pyforest_update_imports_cell) { window._pyforest_update_imports_cell('import pandas as pd'); }\n",
       "    "
      ],
      "text/plain": [
       "<IPython.core.display.Javascript object>"
      ]
     },
     "metadata": {},
     "output_type": "display_data"
    },
    {
     "data": {
      "text/html": [
       "<div>\n",
       "<style scoped>\n",
       "    .dataframe tbody tr th:only-of-type {\n",
       "        vertical-align: middle;\n",
       "    }\n",
       "\n",
       "    .dataframe tbody tr th {\n",
       "        vertical-align: top;\n",
       "    }\n",
       "\n",
       "    .dataframe thead th {\n",
       "        text-align: right;\n",
       "    }\n",
       "</style>\n",
       "<table border=\"1\" class=\"dataframe\">\n",
       "  <thead>\n",
       "    <tr style=\"text-align: right;\">\n",
       "      <th></th>\n",
       "      <th>Unnamed: 0</th>\n",
       "      <th>Ketchup.hid</th>\n",
       "      <th>Ketchup.id</th>\n",
       "      <th>Ketchup.choice</th>\n",
       "      <th>price.heinz</th>\n",
       "      <th>price.hunts</th>\n",
       "      <th>price.delmonte</th>\n",
       "      <th>price.stb</th>\n",
       "    </tr>\n",
       "  </thead>\n",
       "  <tbody>\n",
       "    <tr>\n",
       "      <th>0</th>\n",
       "      <td>1</td>\n",
       "      <td>1</td>\n",
       "      <td>1</td>\n",
       "      <td>heinz</td>\n",
       "      <td>1.19</td>\n",
       "      <td>1.39</td>\n",
       "      <td>1.49</td>\n",
       "      <td>0.89</td>\n",
       "    </tr>\n",
       "    <tr>\n",
       "      <th>1</th>\n",
       "      <td>2</td>\n",
       "      <td>1</td>\n",
       "      <td>2</td>\n",
       "      <td>heinz</td>\n",
       "      <td>0.99</td>\n",
       "      <td>1.36</td>\n",
       "      <td>1.39</td>\n",
       "      <td>0.95</td>\n",
       "    </tr>\n",
       "    <tr>\n",
       "      <th>2</th>\n",
       "      <td>3</td>\n",
       "      <td>1</td>\n",
       "      <td>3</td>\n",
       "      <td>hunts</td>\n",
       "      <td>1.46</td>\n",
       "      <td>1.43</td>\n",
       "      <td>1.49</td>\n",
       "      <td>0.99</td>\n",
       "    </tr>\n",
       "    <tr>\n",
       "      <th>3</th>\n",
       "      <td>4</td>\n",
       "      <td>1</td>\n",
       "      <td>4</td>\n",
       "      <td>hunts</td>\n",
       "      <td>1.46</td>\n",
       "      <td>1.43</td>\n",
       "      <td>1.45</td>\n",
       "      <td>0.99</td>\n",
       "    </tr>\n",
       "    <tr>\n",
       "      <th>4</th>\n",
       "      <td>5</td>\n",
       "      <td>1</td>\n",
       "      <td>5</td>\n",
       "      <td>stb</td>\n",
       "      <td>1.46</td>\n",
       "      <td>1.36</td>\n",
       "      <td>1.39</td>\n",
       "      <td>0.95</td>\n",
       "    </tr>\n",
       "  </tbody>\n",
       "</table>\n",
       "</div>"
      ],
      "text/plain": [
       "   Unnamed: 0  Ketchup.hid  Ketchup.id Ketchup.choice  price.heinz  \\\n",
       "0           1            1           1          heinz         1.19   \n",
       "1           2            1           2          heinz         0.99   \n",
       "2           3            1           3          hunts         1.46   \n",
       "3           4            1           4          hunts         1.46   \n",
       "4           5            1           5            stb         1.46   \n",
       "\n",
       "   price.hunts  price.delmonte  price.stb  \n",
       "0         1.39            1.49       0.89  \n",
       "1         1.36            1.39       0.95  \n",
       "2         1.43            1.49       0.99  \n",
       "3         1.43            1.45       0.99  \n",
       "4         1.36            1.39       0.95  "
      ]
     },
     "execution_count": 5,
     "metadata": {},
     "output_type": "execute_result"
    }
   ],
   "source": [
    "test_data = pd.read_csv(\"Ketchup.csv\")\n",
    "test_data.head()"
   ]
  },
  {
   "cell_type": "code",
   "execution_count": 4,
   "id": "da6e645f",
   "metadata": {},
   "outputs": [
    {
     "data": {
      "application/javascript": [
       "\n",
       "        if (window._pyforest_update_imports_cell) { window._pyforest_update_imports_cell('import pandas as pd'); }\n",
       "    "
      ],
      "text/plain": [
       "<IPython.core.display.Javascript object>"
      ]
     },
     "metadata": {},
     "output_type": "display_data"
    },
    {
     "data": {
      "application/javascript": [
       "\n",
       "        if (window._pyforest_update_imports_cell) { window._pyforest_update_imports_cell('import pandas as pd'); }\n",
       "    "
      ],
      "text/plain": [
       "<IPython.core.display.Javascript object>"
      ]
     },
     "metadata": {},
     "output_type": "display_data"
    },
    {
     "name": "stdout",
     "output_type": "stream",
     "text": [
      "Train columns: ['Unnamed: 0', 'Ketchup.hid', 'Ketchup.id', 'Ketchup.choice', 'price.heinz', 'price.hunts', 'price.delmonte', 'price.stb']\n",
      "Test columns: ['Unnamed: 0', 'Ketchup.hid', 'Ketchup.id', 'Ketchup.choice', 'price.heinz', 'price.hunts', 'price.delmonte', 'price.stb']\n"
     ]
    }
   ],
   "source": [
    "# Print train and test columns\n",
    "test = pd.read_csv(\"Ketchup.csv\")\n",
    "train = pd.read_csv(\"Ketchup.csv\")\n",
    "print('Train columns:', train.columns.tolist())\n",
    "print('Test columns:', test.columns.tolist())"
   ]
  },
  {
   "cell_type": "code",
   "execution_count": 11,
   "id": "74caa272",
   "metadata": {},
   "outputs": [
    {
     "ename": "KeyError",
     "evalue": "'Ketchup.choice'",
     "output_type": "error",
     "traceback": [
      "\u001b[1;31m---------------------------------------------------------------------------\u001b[0m",
      "\u001b[1;31mKeyError\u001b[0m                                  Traceback (most recent call last)",
      "File \u001b[1;32m~\\anaconda3\\lib\\site-packages\\pandas\\core\\indexes\\base.py:3621\u001b[0m, in \u001b[0;36mIndex.get_loc\u001b[1;34m(self, key, method, tolerance)\u001b[0m\n\u001b[0;32m   3620\u001b[0m \u001b[38;5;28;01mtry\u001b[39;00m:\n\u001b[1;32m-> 3621\u001b[0m     \u001b[38;5;28;01mreturn\u001b[39;00m \u001b[38;5;28;43mself\u001b[39;49m\u001b[38;5;241;43m.\u001b[39;49m\u001b[43m_engine\u001b[49m\u001b[38;5;241;43m.\u001b[39;49m\u001b[43mget_loc\u001b[49m\u001b[43m(\u001b[49m\u001b[43mcasted_key\u001b[49m\u001b[43m)\u001b[49m\n\u001b[0;32m   3622\u001b[0m \u001b[38;5;28;01mexcept\u001b[39;00m \u001b[38;5;167;01mKeyError\u001b[39;00m \u001b[38;5;28;01mas\u001b[39;00m err:\n",
      "File \u001b[1;32m~\\anaconda3\\lib\\site-packages\\pandas\\_libs\\index.pyx:136\u001b[0m, in \u001b[0;36mpandas._libs.index.IndexEngine.get_loc\u001b[1;34m()\u001b[0m\n",
      "File \u001b[1;32m~\\anaconda3\\lib\\site-packages\\pandas\\_libs\\index.pyx:163\u001b[0m, in \u001b[0;36mpandas._libs.index.IndexEngine.get_loc\u001b[1;34m()\u001b[0m\n",
      "File \u001b[1;32mpandas\\_libs\\hashtable_class_helper.pxi:5198\u001b[0m, in \u001b[0;36mpandas._libs.hashtable.PyObjectHashTable.get_item\u001b[1;34m()\u001b[0m\n",
      "File \u001b[1;32mpandas\\_libs\\hashtable_class_helper.pxi:5206\u001b[0m, in \u001b[0;36mpandas._libs.hashtable.PyObjectHashTable.get_item\u001b[1;34m()\u001b[0m\n",
      "\u001b[1;31mKeyError\u001b[0m: 'Ketchup.choice'",
      "\nThe above exception was the direct cause of the following exception:\n",
      "\u001b[1;31mKeyError\u001b[0m                                  Traceback (most recent call last)",
      "Input \u001b[1;32mIn [11]\u001b[0m, in \u001b[0;36m<cell line: 2>\u001b[1;34m()\u001b[0m\n\u001b[0;32m      1\u001b[0m \u001b[38;5;66;03m# Convert the column to string type\u001b[39;00m\n\u001b[1;32m----> 2\u001b[0m train[\u001b[38;5;124m'\u001b[39m\u001b[38;5;124mKetchup.choice\u001b[39m\u001b[38;5;124m'\u001b[39m] \u001b[38;5;241m=\u001b[39m \u001b[43mtrain\u001b[49m\u001b[43m[\u001b[49m\u001b[38;5;124;43m'\u001b[39;49m\u001b[38;5;124;43mKetchup.choice\u001b[39;49m\u001b[38;5;124;43m'\u001b[39;49m\u001b[43m]\u001b[49m\u001b[38;5;241m.\u001b[39mastype(\u001b[38;5;28mstr\u001b[39m)\n\u001b[0;32m      4\u001b[0m \u001b[38;5;66;03m# Apply the lambda function to extract the first three characters\u001b[39;00m\n\u001b[0;32m      5\u001b[0m train[\u001b[38;5;124m'\u001b[39m\u001b[38;5;124mKetchup.choice\u001b[39m\u001b[38;5;124m'\u001b[39m] \u001b[38;5;241m=\u001b[39m train[\u001b[38;5;124m'\u001b[39m\u001b[38;5;124mKetchup.choice\u001b[39m\u001b[38;5;124m'\u001b[39m]\u001b[38;5;241m.\u001b[39mapply(\u001b[38;5;28;01mlambda\u001b[39;00m x: x[\u001b[38;5;241m0\u001b[39m:\u001b[38;5;241m3\u001b[39m])\n",
      "File \u001b[1;32m~\\anaconda3\\lib\\site-packages\\pandas\\core\\frame.py:3505\u001b[0m, in \u001b[0;36mDataFrame.__getitem__\u001b[1;34m(self, key)\u001b[0m\n\u001b[0;32m   3503\u001b[0m \u001b[38;5;28;01mif\u001b[39;00m \u001b[38;5;28mself\u001b[39m\u001b[38;5;241m.\u001b[39mcolumns\u001b[38;5;241m.\u001b[39mnlevels \u001b[38;5;241m>\u001b[39m \u001b[38;5;241m1\u001b[39m:\n\u001b[0;32m   3504\u001b[0m     \u001b[38;5;28;01mreturn\u001b[39;00m \u001b[38;5;28mself\u001b[39m\u001b[38;5;241m.\u001b[39m_getitem_multilevel(key)\n\u001b[1;32m-> 3505\u001b[0m indexer \u001b[38;5;241m=\u001b[39m \u001b[38;5;28;43mself\u001b[39;49m\u001b[38;5;241;43m.\u001b[39;49m\u001b[43mcolumns\u001b[49m\u001b[38;5;241;43m.\u001b[39;49m\u001b[43mget_loc\u001b[49m\u001b[43m(\u001b[49m\u001b[43mkey\u001b[49m\u001b[43m)\u001b[49m\n\u001b[0;32m   3506\u001b[0m \u001b[38;5;28;01mif\u001b[39;00m is_integer(indexer):\n\u001b[0;32m   3507\u001b[0m     indexer \u001b[38;5;241m=\u001b[39m [indexer]\n",
      "File \u001b[1;32m~\\anaconda3\\lib\\site-packages\\pandas\\core\\indexes\\base.py:3623\u001b[0m, in \u001b[0;36mIndex.get_loc\u001b[1;34m(self, key, method, tolerance)\u001b[0m\n\u001b[0;32m   3621\u001b[0m     \u001b[38;5;28;01mreturn\u001b[39;00m \u001b[38;5;28mself\u001b[39m\u001b[38;5;241m.\u001b[39m_engine\u001b[38;5;241m.\u001b[39mget_loc(casted_key)\n\u001b[0;32m   3622\u001b[0m \u001b[38;5;28;01mexcept\u001b[39;00m \u001b[38;5;167;01mKeyError\u001b[39;00m \u001b[38;5;28;01mas\u001b[39;00m err:\n\u001b[1;32m-> 3623\u001b[0m     \u001b[38;5;28;01mraise\u001b[39;00m \u001b[38;5;167;01mKeyError\u001b[39;00m(key) \u001b[38;5;28;01mfrom\u001b[39;00m \u001b[38;5;21;01merr\u001b[39;00m\n\u001b[0;32m   3624\u001b[0m \u001b[38;5;28;01mexcept\u001b[39;00m \u001b[38;5;167;01mTypeError\u001b[39;00m:\n\u001b[0;32m   3625\u001b[0m     \u001b[38;5;66;03m# If we have a listlike key, _check_indexing_error will raise\u001b[39;00m\n\u001b[0;32m   3626\u001b[0m     \u001b[38;5;66;03m#  InvalidIndexError. Otherwise we fall through and re-raise\u001b[39;00m\n\u001b[0;32m   3627\u001b[0m     \u001b[38;5;66;03m#  the TypeError.\u001b[39;00m\n\u001b[0;32m   3628\u001b[0m     \u001b[38;5;28mself\u001b[39m\u001b[38;5;241m.\u001b[39m_check_indexing_error(key)\n",
      "\u001b[1;31mKeyError\u001b[0m: 'Ketchup.choice'"
     ]
    }
   ],
   "source": [
    "# Convert the column to string type\n",
    "train['Ketchup.choice'] = train['Ketchup.choice'].astype(str)\n",
    "\n",
    "# Apply the lambda function to extract the first three characters\n",
    "train['Ketchup.choice'] = train['Ketchup.choice'].apply(lambda x: x[0:3])\n",
    "\n",
    "# Convert the column to category type\n",
    "train['Ketchup.choice'] = train['Ketchup.choice'].astype('category')\n",
    "\n",
    "# Encode the category codes\n",
    "train['Ketchup.choice'] = train['Ketchup.choice'].cat.codes\n",
    "\n",
    "# Convert the column to string type\n",
    "test['Ketchup.choice'] = test['Ketchup.choice'].astype(str)\n",
    "\n",
    "# Apply the lambda function to extract the first three characters\n",
    "test['Ketchup.choice'] = test['Ketchup.choice'].apply(lambda x: x[0:3])\n",
    "\n",
    "# Convert the column to category type\n",
    "test['Ketchup.choice'] = test['Ketchup.choice'].astype('category')\n",
    "\n",
    "# Encode the category codes\n",
    "test['Ketchup.choice'] = test['Ketchup.choice'].cat.codes"
   ]
  },
  {
   "cell_type": "code",
   "execution_count": 10,
   "id": "c4699fc7",
   "metadata": {},
   "outputs": [],
   "source": [
    "Y_train = train['Ketchup.choice'].ravel()\n",
    "train = train.drop(['Ketchup.choice'], axis=1)\n",
    "x_train = train.values\n",
    "x_test = test.values "
   ]
  },
  {
   "cell_type": "code",
   "execution_count": null,
   "id": "e2c2b6c6",
   "metadata": {},
   "outputs": [],
   "source": []
  }
 ],
 "metadata": {
  "kernelspec": {
   "display_name": "Python 3 (ipykernel)",
   "language": "python",
   "name": "python3"
  },
  "language_info": {
   "codemirror_mode": {
    "name": "ipython",
    "version": 3
   },
   "file_extension": ".py",
   "mimetype": "text/x-python",
   "name": "python",
   "nbconvert_exporter": "python",
   "pygments_lexer": "ipython3",
   "version": "3.9.12"
  }
 },
 "nbformat": 4,
 "nbformat_minor": 5
}
